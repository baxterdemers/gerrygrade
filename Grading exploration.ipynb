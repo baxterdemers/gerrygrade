{
 "cells": [
  {
   "cell_type": "code",
   "execution_count": 1,
   "metadata": {},
   "outputs": [
    {
     "data": {
      "text/plain": "'0.25.3'"
     },
     "execution_count": 1,
     "metadata": {},
     "output_type": "execute_result"
    }
   ],
   "source": [
    "import gerrymetrics as g\n",
    "import pandas as pd\n",
    "import IPython.display as ipd\n",
    "\n",
    "from collections import defaultdict\n",
    "pd.__version__"
   ]
  },
  {
   "cell_type": "code",
   "execution_count": 17,
   "metadata": {},
   "outputs": [
    {
     "name": "stderr",
     "output_type": "stream",
     "text": "100%|██████████| 36/36 [00:04<00:00,  7.59it/s]\n"
    }
   ],
   "source": [
    "# impute uncontested races at a voteshare of 0 or 1; in other words, don't impute them\n",
    "impute_val = 1\n",
    "\n",
    "# only consider races after 1972\n",
    "min_year = 1972\n",
    "\n",
    "# when identifying the worst gerrymanders:\n",
    "# only examine races where D voteshare is between .45 and .55\n",
    "competitiveness_threshold = 1\n",
    "\n",
    "# only examine races in states with at least 7 districts\n",
    "min_districts = 0\n",
    "\n",
    "chambers = defaultdict(lambda: defaultdict(list))\n",
    "\n",
    "metric_dict = {'t_test_p':               g.t_test_p,\n",
    "               'mean_median_diff':       g.mean_median,\n",
    "               'efficiency_gap':         g.EG,\n",
    "               'partisan_bias':          g.partisan_bias,\n",
    "               'non_parametric':         g.mann_whitney_u_p,\n",
    "               }\n",
    "\n",
    "elections_df = g.parse_results('congress.csv')\n",
    "tests_df = g.tests_df(g.run_all_tests(elections_df, impute_val=impute_val, metrics=metric_dict))\n",
    "percentile_df = g.generate_percentiles(\n",
    "            tests_df, \n",
    "            metric_dict.keys(),\n",
    "            competitiveness_threshold=competitiveness_threshold,\n",
    "            min_districts=min_districts,\n",
    "            min_year=min_year\n",
    "        )"
   ]
  },
  {
   "cell_type": "code",
   "execution_count": 13,
   "metadata": {},
   "outputs": [
    {
     "ename": "TypeError",
     "evalue": "cannot perform any with this index type: MultiIndex",
     "output_type": "error",
     "traceback": [
      "\u001b[0;31m---------------------------------------------------------------------------\u001b[0m",
      "\u001b[0;31mTypeError\u001b[0m                                 Traceback (most recent call last)",
      "\u001b[0;32m<ipython-input-13-e58189d5885b>\u001b[0m in \u001b[0;36m<module>\u001b[0;34m\u001b[0m\n\u001b[0;32m----> 1\u001b[0;31m \u001b[0mtests_df\u001b[0m\u001b[0;34m[\u001b[0m\u001b[0mtests_df\u001b[0m\u001b[0;34m.\u001b[0m\u001b[0mindex\u001b[0m\u001b[0;34m.\u001b[0m\u001b[0many\u001b[0m\u001b[0;34m(\u001b[0m\u001b[0;34m'AL'\u001b[0m\u001b[0;34m)\u001b[0m\u001b[0;34m]\u001b[0m\u001b[0;34m\u001b[0m\u001b[0;34m\u001b[0m\u001b[0m\n\u001b[0m",
      "\u001b[0;32m/usr/local/anaconda3/envs/grdVE/lib/python3.7/site-packages/pandas/core/ops/__init__.py\u001b[0m in \u001b[0;36minvalid_op\u001b[0;34m(self, other)\u001b[0m\n\u001b[1;32m    194\u001b[0m         raise TypeError(\n\u001b[1;32m    195\u001b[0m             \u001b[0;34m\"cannot perform {name} with this index type: \"\u001b[0m\u001b[0;34m\u001b[0m\u001b[0;34m\u001b[0m\u001b[0m\n\u001b[0;32m--> 196\u001b[0;31m             \u001b[0;34m\"{typ}\"\u001b[0m\u001b[0;34m.\u001b[0m\u001b[0mformat\u001b[0m\u001b[0;34m(\u001b[0m\u001b[0mname\u001b[0m\u001b[0;34m=\u001b[0m\u001b[0mname\u001b[0m\u001b[0;34m,\u001b[0m \u001b[0mtyp\u001b[0m\u001b[0;34m=\u001b[0m\u001b[0mtype\u001b[0m\u001b[0;34m(\u001b[0m\u001b[0mself\u001b[0m\u001b[0;34m)\u001b[0m\u001b[0;34m.\u001b[0m\u001b[0m__name__\u001b[0m\u001b[0;34m)\u001b[0m\u001b[0;34m\u001b[0m\u001b[0;34m\u001b[0m\u001b[0m\n\u001b[0m\u001b[1;32m    197\u001b[0m         )\n\u001b[1;32m    198\u001b[0m \u001b[0;34m\u001b[0m\u001b[0m\n",
      "\u001b[0;31mTypeError\u001b[0m: cannot perform any with this index type: MultiIndex"
     ]
    }
   ],
   "source": [
    "tests_df[tests_df.index.any('AL')]"
   ]
  },
  {
   "cell_type": "code",
   "execution_count": 23,
   "metadata": {},
   "outputs": [],
   "source": [
    "tests2016 = tests_df.loc[2016]\n",
    "tests2016.to_csv('tests2016')"
   ]
  },
  {
   "cell_type": "code",
   "execution_count": null,
   "metadata": {},
   "outputs": [],
   "source": []
  },
  {
   "cell_type": "code",
   "execution_count": 15,
   "metadata": {},
   "outputs": [
    {
     "data": {
      "text/plain": "array([0.])"
     },
     "execution_count": 15,
     "metadata": {},
     "output_type": "execute_result"
    }
   ],
   "source": [
    "tests_df.loc[2016]\n",
    "dseats = tests_df.dseats\n",
    "seats = tests_df.seats\n",
    "(dseats - seats).unique()"
   ]
  },
  {
   "cell_type": "code",
   "execution_count": 8,
   "metadata": {},
   "outputs": [
    {
     "data": {
      "text/plain": "(50, 11)"
     },
     "execution_count": 8,
     "metadata": {},
     "output_type": "execute_result"
    }
   ],
   "source": [
    "percentile_df.loc[2018].shape"
   ]
  },
  {
   "cell_type": "code",
   "execution_count": 12,
   "metadata": {},
   "outputs": [
    {
     "data": {
      "text/html": "<div>\n<style scoped>\n    .dataframe tbody tr th:only-of-type {\n        vertical-align: middle;\n    }\n\n    .dataframe tbody tr th {\n        vertical-align: top;\n    }\n\n    .dataframe thead th {\n        text-align: right;\n    }\n</style>\n<table border=\"1\" class=\"dataframe\">\n  <thead>\n    <tr style=\"text-align: right;\">\n      <th></th>\n      <th>voteshare</th>\n      <th>dseats</th>\n      <th>seats</th>\n      <th>ndists</th>\n      <th>state</th>\n      <th>year</th>\n      <th>weighted_voteshare</th>\n      <th>t_test_diff</th>\n      <th>mean_median_diff</th>\n      <th>efficiency_gap</th>\n      <th>partisan_bias</th>\n    </tr>\n    <tr>\n      <th>State</th>\n      <th></th>\n      <th></th>\n      <th></th>\n      <th></th>\n      <th></th>\n      <th></th>\n      <th></th>\n      <th></th>\n      <th></th>\n      <th></th>\n      <th></th>\n    </tr>\n  </thead>\n  <tbody>\n    <tr>\n      <th>AK</th>\n      <td>0.466937</td>\n      <td>0.0</td>\n      <td>0.0</td>\n      <td>1.0</td>\n      <td>AK</td>\n      <td>2018.0</td>\n      <td>0.466937</td>\n      <td>NaN</td>\n      <td>12.928870</td>\n      <td>97.740586</td>\n      <td>93.598326</td>\n    </tr>\n    <tr>\n      <th>AL</th>\n      <td>0.430576</td>\n      <td>1.0</td>\n      <td>1.0</td>\n      <td>7.0</td>\n      <td>AL</td>\n      <td>2018.0</td>\n      <td>0.410226</td>\n      <td>70.292887</td>\n      <td>80.753138</td>\n      <td>80.836820</td>\n      <td>87.071130</td>\n    </tr>\n    <tr>\n      <th>AR</th>\n      <td>0.354028</td>\n      <td>0.0</td>\n      <td>0.0</td>\n      <td>4.0</td>\n      <td>AR</td>\n      <td>2018.0</td>\n      <td>0.360027</td>\n      <td>NaN</td>\n      <td>54.895397</td>\n      <td>78.828452</td>\n      <td>83.305439</td>\n    </tr>\n    <tr>\n      <th>AZ</th>\n      <td>0.549015</td>\n      <td>5.0</td>\n      <td>5.0</td>\n      <td>9.0</td>\n      <td>AZ</td>\n      <td>2018.0</td>\n      <td>0.508548</td>\n      <td>33.723849</td>\n      <td>36.401674</td>\n      <td>23.933054</td>\n      <td>74.937238</td>\n    </tr>\n    <tr>\n      <th>CA</th>\n      <td>0.678391</td>\n      <td>46.0</td>\n      <td>46.0</td>\n      <td>53.0</td>\n      <td>CA</td>\n      <td>2018.0</td>\n      <td>0.668437</td>\n      <td>45.774059</td>\n      <td>35.648536</td>\n      <td>6.443515</td>\n      <td>31.422594</td>\n    </tr>\n    <tr>\n      <th>CO</th>\n      <td>0.550311</td>\n      <td>4.0</td>\n      <td>4.0</td>\n      <td>7.0</td>\n      <td>CO</td>\n      <td>2018.0</td>\n      <td>0.554363</td>\n      <td>33.389121</td>\n      <td>33.054393</td>\n      <td>17.071130</td>\n      <td>45.062762</td>\n    </tr>\n    <tr>\n      <th>CT</th>\n      <td>0.619904</td>\n      <td>5.0</td>\n      <td>5.0</td>\n      <td>5.0</td>\n      <td>CT</td>\n      <td>2018.0</td>\n      <td>0.620019</td>\n      <td>NaN</td>\n      <td>43.514644</td>\n      <td>86.192469</td>\n      <td>55.439331</td>\n    </tr>\n    <tr>\n      <th>DE</th>\n      <td>0.644540</td>\n      <td>1.0</td>\n      <td>1.0</td>\n      <td>1.0</td>\n      <td>DE</td>\n      <td>2018.0</td>\n      <td>0.644540</td>\n      <td>NaN</td>\n      <td>12.928870</td>\n      <td>79.414226</td>\n      <td>93.598326</td>\n    </tr>\n    <tr>\n      <th>FL</th>\n      <td>0.563266</td>\n      <td>13.0</td>\n      <td>13.0</td>\n      <td>27.0</td>\n      <td>FL</td>\n      <td>2018.0</td>\n      <td>0.473636</td>\n      <td>55.815900</td>\n      <td>92.803347</td>\n      <td>63.347280</td>\n      <td>50.753138</td>\n    </tr>\n    <tr>\n      <th>GA</th>\n      <td>0.465489</td>\n      <td>5.0</td>\n      <td>5.0</td>\n      <td>14.0</td>\n      <td>GA</td>\n      <td>2018.0</td>\n      <td>0.477282</td>\n      <td>24.184100</td>\n      <td>73.974895</td>\n      <td>37.991632</td>\n      <td>47.196653</td>\n    </tr>\n    <tr>\n      <th>HI</th>\n      <td>0.766861</td>\n      <td>2.0</td>\n      <td>2.0</td>\n      <td>2.0</td>\n      <td>HI</td>\n      <td>2018.0</td>\n      <td>0.767239</td>\n      <td>NaN</td>\n      <td>12.928870</td>\n      <td>19.581590</td>\n      <td>13.723849</td>\n    </tr>\n    <tr>\n      <th>IA</th>\n      <td>0.520706</td>\n      <td>3.0</td>\n      <td>3.0</td>\n      <td>4.0</td>\n      <td>IA</td>\n      <td>2018.0</td>\n      <td>0.520492</td>\n      <td>8.535565</td>\n      <td>27.866109</td>\n      <td>78.995816</td>\n      <td>13.723849</td>\n    </tr>\n    <tr>\n      <th>ID</th>\n      <td>0.361124</td>\n      <td>0.0</td>\n      <td>0.0</td>\n      <td>2.0</td>\n      <td>ID</td>\n      <td>2018.0</td>\n      <td>0.360341</td>\n      <td>NaN</td>\n      <td>12.928870</td>\n      <td>81.338912</td>\n      <td>13.723849</td>\n    </tr>\n    <tr>\n      <th>IL</th>\n      <td>0.622636</td>\n      <td>13.0</td>\n      <td>13.0</td>\n      <td>18.0</td>\n      <td>IL</td>\n      <td>2018.0</td>\n      <td>0.611158</td>\n      <td>47.029289</td>\n      <td>51.882845</td>\n      <td>13.138075</td>\n      <td>39.581590</td>\n    </tr>\n    <tr>\n      <th>IN</th>\n      <td>0.447388</td>\n      <td>2.0</td>\n      <td>2.0</td>\n      <td>9.0</td>\n      <td>IN</td>\n      <td>2018.0</td>\n      <td>0.444870</td>\n      <td>20.334728</td>\n      <td>41.004184</td>\n      <td>71.799163</td>\n      <td>74.937238</td>\n    </tr>\n    <tr>\n      <th>KS</th>\n      <td>0.442316</td>\n      <td>1.0</td>\n      <td>1.0</td>\n      <td>4.0</td>\n      <td>KS</td>\n      <td>2018.0</td>\n      <td>0.451921</td>\n      <td>22.008368</td>\n      <td>34.142259</td>\n      <td>60.000000</td>\n      <td>13.723849</td>\n    </tr>\n    <tr>\n      <th>KY</th>\n      <td>0.385424</td>\n      <td>1.0</td>\n      <td>1.0</td>\n      <td>6.0</td>\n      <td>KY</td>\n      <td>2018.0</td>\n      <td>0.395908</td>\n      <td>18.075314</td>\n      <td>71.882845</td>\n      <td>50.543933</td>\n      <td>74.937238</td>\n    </tr>\n    <tr>\n      <th>LA</th>\n      <td>0.420644</td>\n      <td>1.0</td>\n      <td>1.0</td>\n      <td>6.0</td>\n      <td>LA</td>\n      <td>2018.0</td>\n      <td>0.398290</td>\n      <td>69.707113</td>\n      <td>95.815900</td>\n      <td>72.301255</td>\n      <td>86.861925</td>\n    </tr>\n    <tr>\n      <th>MA</th>\n      <td>0.816661</td>\n      <td>9.0</td>\n      <td>9.0</td>\n      <td>9.0</td>\n      <td>MA</td>\n      <td>2018.0</td>\n      <td>0.796050</td>\n      <td>NaN</td>\n      <td>77.907950</td>\n      <td>59.497908</td>\n      <td>39.581590</td>\n    </tr>\n    <tr>\n      <th>MD</th>\n      <td>0.672902</td>\n      <td>7.0</td>\n      <td>7.0</td>\n      <td>8.0</td>\n      <td>MD</td>\n      <td>2018.0</td>\n      <td>0.669242</td>\n      <td>44.769874</td>\n      <td>55.648536</td>\n      <td>17.154812</td>\n      <td>83.305439</td>\n    </tr>\n    <tr>\n      <th>ME</th>\n      <td>0.575150</td>\n      <td>2.0</td>\n      <td>2.0</td>\n      <td>2.0</td>\n      <td>ME</td>\n      <td>2018.0</td>\n      <td>0.578750</td>\n      <td>NaN</td>\n      <td>12.928870</td>\n      <td>93.054393</td>\n      <td>13.723849</td>\n    </tr>\n    <tr>\n      <th>MI</th>\n      <td>0.558403</td>\n      <td>7.0</td>\n      <td>7.0</td>\n      <td>14.0</td>\n      <td>MI</td>\n      <td>2018.0</td>\n      <td>0.539909</td>\n      <td>49.874477</td>\n      <td>79.414226</td>\n      <td>54.895397</td>\n      <td>66.150628</td>\n    </tr>\n    <tr>\n      <th>MN</th>\n      <td>0.554344</td>\n      <td>5.0</td>\n      <td>5.0</td>\n      <td>8.0</td>\n      <td>MN</td>\n      <td>2018.0</td>\n      <td>0.557973</td>\n      <td>33.221757</td>\n      <td>57.071130</td>\n      <td>8.702929</td>\n      <td>62.468619</td>\n    </tr>\n    <tr>\n      <th>MO</th>\n      <td>0.438361</td>\n      <td>2.0</td>\n      <td>2.0</td>\n      <td>8.0</td>\n      <td>MO</td>\n      <td>2018.0</td>\n      <td>0.435775</td>\n      <td>35.146444</td>\n      <td>94.309623</td>\n      <td>57.824268</td>\n      <td>62.468619</td>\n    </tr>\n    <tr>\n      <th>MS</th>\n      <td>0.501911</td>\n      <td>1.0</td>\n      <td>1.0</td>\n      <td>4.0</td>\n      <td>MS</td>\n      <td>2018.0</td>\n      <td>0.458392</td>\n      <td>70.376569</td>\n      <td>98.410042</td>\n      <td>85.439331</td>\n      <td>83.305439</td>\n    </tr>\n    <tr>\n      <th>MT</th>\n      <td>0.476143</td>\n      <td>0.0</td>\n      <td>0.0</td>\n      <td>1.0</td>\n      <td>MT</td>\n      <td>2018.0</td>\n      <td>0.476143</td>\n      <td>NaN</td>\n      <td>12.928870</td>\n      <td>98.744770</td>\n      <td>93.598326</td>\n    </tr>\n    <tr>\n      <th>NC</th>\n      <td>0.472492</td>\n      <td>3.0</td>\n      <td>3.0</td>\n      <td>12.0</td>\n      <td>NC</td>\n      <td>2018.0</td>\n      <td>0.488909</td>\n      <td>49.037657</td>\n      <td>58.828452</td>\n      <td>76.234310</td>\n      <td>83.305439</td>\n    </tr>\n    <tr>\n      <th>ND</th>\n      <td>0.371420</td>\n      <td>0.0</td>\n      <td>0.0</td>\n      <td>1.0</td>\n      <td>ND</td>\n      <td>2018.0</td>\n      <td>0.371420</td>\n      <td>NaN</td>\n      <td>12.928870</td>\n      <td>84.267782</td>\n      <td>93.598326</td>\n    </tr>\n    <tr>\n      <th>NE</th>\n      <td>0.373081</td>\n      <td>0.0</td>\n      <td>0.0</td>\n      <td>3.0</td>\n      <td>NE</td>\n      <td>2018.0</td>\n      <td>0.379708</td>\n      <td>NaN</td>\n      <td>50.460251</td>\n      <td>84.602510</td>\n      <td>69.163180</td>\n    </tr>\n    <tr>\n      <th>NH</th>\n      <td>0.554370</td>\n      <td>2.0</td>\n      <td>2.0</td>\n      <td>2.0</td>\n      <td>NH</td>\n      <td>2018.0</td>\n      <td>0.554097</td>\n      <td>NaN</td>\n      <td>12.928870</td>\n      <td>95.899582</td>\n      <td>13.723849</td>\n    </tr>\n    <tr>\n      <th>NJ</th>\n      <td>0.628882</td>\n      <td>11.0</td>\n      <td>11.0</td>\n      <td>12.0</td>\n      <td>NJ</td>\n      <td>2018.0</td>\n      <td>0.607701</td>\n      <td>39.079498</td>\n      <td>50.962343</td>\n      <td>67.698745</td>\n      <td>13.723849</td>\n    </tr>\n    <tr>\n      <th>NM</th>\n      <td>0.599617</td>\n      <td>3.0</td>\n      <td>3.0</td>\n      <td>3.0</td>\n      <td>NM</td>\n      <td>2018.0</td>\n      <td>0.604172</td>\n      <td>NaN</td>\n      <td>47.112971</td>\n      <td>88.870293</td>\n      <td>69.163180</td>\n    </tr>\n    <tr>\n      <th>NV</th>\n      <td>0.547547</td>\n      <td>3.0</td>\n      <td>3.0</td>\n      <td>4.0</td>\n      <td>NV</td>\n      <td>2018.0</td>\n      <td>0.527683</td>\n      <td>5.355649</td>\n      <td>28.117155</td>\n      <td>66.610879</td>\n      <td>13.723849</td>\n    </tr>\n    <tr>\n      <th>NY</th>\n      <td>0.721305</td>\n      <td>21.0</td>\n      <td>21.0</td>\n      <td>27.0</td>\n      <td>NY</td>\n      <td>2018.0</td>\n      <td>0.682188</td>\n      <td>69.037657</td>\n      <td>77.071130</td>\n      <td>68.870293</td>\n      <td>28.661088</td>\n    </tr>\n    <tr>\n      <th>OH</th>\n      <td>0.481092</td>\n      <td>4.0</td>\n      <td>4.0</td>\n      <td>16.0</td>\n      <td>OH</td>\n      <td>2018.0</td>\n      <td>0.476149</td>\n      <td>49.456067</td>\n      <td>73.556485</td>\n      <td>79.832636</td>\n      <td>83.305439</td>\n    </tr>\n    <tr>\n      <th>OK</th>\n      <td>0.367044</td>\n      <td>1.0</td>\n      <td>1.0</td>\n      <td>5.0</td>\n      <td>OK</td>\n      <td>2018.0</td>\n      <td>0.369679</td>\n      <td>60.334728</td>\n      <td>50.794979</td>\n      <td>19.832636</td>\n      <td>55.439331</td>\n    </tr>\n    <tr>\n      <th>OR</th>\n      <td>0.601675</td>\n      <td>4.0</td>\n      <td>4.0</td>\n      <td>5.0</td>\n      <td>OR</td>\n      <td>2018.0</td>\n      <td>0.601727</td>\n      <td>30.543933</td>\n      <td>51.046025</td>\n      <td>47.866109</td>\n      <td>55.439331</td>\n    </tr>\n    <tr>\n      <th>PA</th>\n      <td>0.550169</td>\n      <td>9.0</td>\n      <td>9.0</td>\n      <td>18.0</td>\n      <td>PA</td>\n      <td>2018.0</td>\n      <td>0.551475</td>\n      <td>44.351464</td>\n      <td>60.753138</td>\n      <td>49.121339</td>\n      <td>39.581590</td>\n    </tr>\n    <tr>\n      <th>RI</th>\n      <td>0.652443</td>\n      <td>2.0</td>\n      <td>2.0</td>\n      <td>2.0</td>\n      <td>RI</td>\n      <td>2018.0</td>\n      <td>0.651360</td>\n      <td>NaN</td>\n      <td>12.928870</td>\n      <td>76.317992</td>\n      <td>13.723849</td>\n    </tr>\n    <tr>\n      <th>SC</th>\n      <td>0.452673</td>\n      <td>2.0</td>\n      <td>2.0</td>\n      <td>7.0</td>\n      <td>SC</td>\n      <td>2018.0</td>\n      <td>0.449831</td>\n      <td>0.251046</td>\n      <td>58.744770</td>\n      <td>56.066946</td>\n      <td>79.748954</td>\n    </tr>\n    <tr>\n      <th>SD</th>\n      <td>0.373873</td>\n      <td>0.0</td>\n      <td>0.0</td>\n      <td>1.0</td>\n      <td>SD</td>\n      <td>2018.0</td>\n      <td>0.373873</td>\n      <td>NaN</td>\n      <td>12.928870</td>\n      <td>84.769874</td>\n      <td>93.598326</td>\n    </tr>\n    <tr>\n      <th>TN</th>\n      <td>0.405792</td>\n      <td>2.0</td>\n      <td>2.0</td>\n      <td>9.0</td>\n      <td>TN</td>\n      <td>2018.0</td>\n      <td>0.398122</td>\n      <td>25.857741</td>\n      <td>86.108787</td>\n      <td>45.104603</td>\n      <td>85.983264</td>\n    </tr>\n    <tr>\n      <th>TX</th>\n      <td>0.519938</td>\n      <td>13.0</td>\n      <td>13.0</td>\n      <td>36.0</td>\n      <td>TX</td>\n      <td>2018.0</td>\n      <td>0.482311</td>\n      <td>58.075314</td>\n      <td>68.702929</td>\n      <td>73.221757</td>\n      <td>65.606695</td>\n    </tr>\n    <tr>\n      <th>UT</th>\n      <td>0.371605</td>\n      <td>1.0</td>\n      <td>1.0</td>\n      <td>4.0</td>\n      <td>UT</td>\n      <td>2018.0</td>\n      <td>0.377285</td>\n      <td>61.589958</td>\n      <td>49.958159</td>\n      <td>4.351464</td>\n      <td>13.723849</td>\n    </tr>\n    <tr>\n      <th>VA</th>\n      <td>0.579224</td>\n      <td>7.0</td>\n      <td>7.0</td>\n      <td>11.0</td>\n      <td>VA</td>\n      <td>2018.0</td>\n      <td>0.569962</td>\n      <td>40.669456</td>\n      <td>83.765690</td>\n      <td>12.384937</td>\n      <td>64.979079</td>\n    </tr>\n    <tr>\n      <th>VT</th>\n      <td>0.727273</td>\n      <td>1.0</td>\n      <td>1.0</td>\n      <td>1.0</td>\n      <td>VT</td>\n      <td>2018.0</td>\n      <td>0.727273</td>\n      <td>NaN</td>\n      <td>12.928870</td>\n      <td>25.020921</td>\n      <td>93.598326</td>\n    </tr>\n    <tr>\n      <th>WA</th>\n      <td>0.650426</td>\n      <td>7.0</td>\n      <td>7.0</td>\n      <td>10.0</td>\n      <td>WA</td>\n      <td>2018.0</td>\n      <td>0.642968</td>\n      <td>62.510460</td>\n      <td>70.460251</td>\n      <td>49.456067</td>\n      <td>78.828452</td>\n    </tr>\n    <tr>\n      <th>WI</th>\n      <td>0.548648</td>\n      <td>3.0</td>\n      <td>3.0</td>\n      <td>8.0</td>\n      <td>WI</td>\n      <td>2018.0</td>\n      <td>0.538286</td>\n      <td>64.602510</td>\n      <td>95.313808</td>\n      <td>81.422594</td>\n      <td>62.468619</td>\n    </tr>\n    <tr>\n      <th>WV</th>\n      <td>0.411287</td>\n      <td>0.0</td>\n      <td>0.0</td>\n      <td>3.0</td>\n      <td>WV</td>\n      <td>2018.0</td>\n      <td>0.410289</td>\n      <td>NaN</td>\n      <td>52.719665</td>\n      <td>90.878661</td>\n      <td>69.163180</td>\n    </tr>\n    <tr>\n      <th>WY</th>\n      <td>0.318860</td>\n      <td>0.0</td>\n      <td>0.0</td>\n      <td>1.0</td>\n      <td>WY</td>\n      <td>2018.0</td>\n      <td>0.318860</td>\n      <td>NaN</td>\n      <td>12.928870</td>\n      <td>61.338912</td>\n      <td>93.598326</td>\n    </tr>\n  </tbody>\n</table>\n</div>",
      "text/plain": "       voteshare  dseats  seats  ndists state    year  weighted_voteshare  \\\nState                                                                       \nAK      0.466937     0.0    0.0     1.0    AK  2018.0            0.466937   \nAL      0.430576     1.0    1.0     7.0    AL  2018.0            0.410226   \nAR      0.354028     0.0    0.0     4.0    AR  2018.0            0.360027   \nAZ      0.549015     5.0    5.0     9.0    AZ  2018.0            0.508548   \nCA      0.678391    46.0   46.0    53.0    CA  2018.0            0.668437   \nCO      0.550311     4.0    4.0     7.0    CO  2018.0            0.554363   \nCT      0.619904     5.0    5.0     5.0    CT  2018.0            0.620019   \nDE      0.644540     1.0    1.0     1.0    DE  2018.0            0.644540   \nFL      0.563266    13.0   13.0    27.0    FL  2018.0            0.473636   \nGA      0.465489     5.0    5.0    14.0    GA  2018.0            0.477282   \nHI      0.766861     2.0    2.0     2.0    HI  2018.0            0.767239   \nIA      0.520706     3.0    3.0     4.0    IA  2018.0            0.520492   \nID      0.361124     0.0    0.0     2.0    ID  2018.0            0.360341   \nIL      0.622636    13.0   13.0    18.0    IL  2018.0            0.611158   \nIN      0.447388     2.0    2.0     9.0    IN  2018.0            0.444870   \nKS      0.442316     1.0    1.0     4.0    KS  2018.0            0.451921   \nKY      0.385424     1.0    1.0     6.0    KY  2018.0            0.395908   \nLA      0.420644     1.0    1.0     6.0    LA  2018.0            0.398290   \nMA      0.816661     9.0    9.0     9.0    MA  2018.0            0.796050   \nMD      0.672902     7.0    7.0     8.0    MD  2018.0            0.669242   \nME      0.575150     2.0    2.0     2.0    ME  2018.0            0.578750   \nMI      0.558403     7.0    7.0    14.0    MI  2018.0            0.539909   \nMN      0.554344     5.0    5.0     8.0    MN  2018.0            0.557973   \nMO      0.438361     2.0    2.0     8.0    MO  2018.0            0.435775   \nMS      0.501911     1.0    1.0     4.0    MS  2018.0            0.458392   \nMT      0.476143     0.0    0.0     1.0    MT  2018.0            0.476143   \nNC      0.472492     3.0    3.0    12.0    NC  2018.0            0.488909   \nND      0.371420     0.0    0.0     1.0    ND  2018.0            0.371420   \nNE      0.373081     0.0    0.0     3.0    NE  2018.0            0.379708   \nNH      0.554370     2.0    2.0     2.0    NH  2018.0            0.554097   \nNJ      0.628882    11.0   11.0    12.0    NJ  2018.0            0.607701   \nNM      0.599617     3.0    3.0     3.0    NM  2018.0            0.604172   \nNV      0.547547     3.0    3.0     4.0    NV  2018.0            0.527683   \nNY      0.721305    21.0   21.0    27.0    NY  2018.0            0.682188   \nOH      0.481092     4.0    4.0    16.0    OH  2018.0            0.476149   \nOK      0.367044     1.0    1.0     5.0    OK  2018.0            0.369679   \nOR      0.601675     4.0    4.0     5.0    OR  2018.0            0.601727   \nPA      0.550169     9.0    9.0    18.0    PA  2018.0            0.551475   \nRI      0.652443     2.0    2.0     2.0    RI  2018.0            0.651360   \nSC      0.452673     2.0    2.0     7.0    SC  2018.0            0.449831   \nSD      0.373873     0.0    0.0     1.0    SD  2018.0            0.373873   \nTN      0.405792     2.0    2.0     9.0    TN  2018.0            0.398122   \nTX      0.519938    13.0   13.0    36.0    TX  2018.0            0.482311   \nUT      0.371605     1.0    1.0     4.0    UT  2018.0            0.377285   \nVA      0.579224     7.0    7.0    11.0    VA  2018.0            0.569962   \nVT      0.727273     1.0    1.0     1.0    VT  2018.0            0.727273   \nWA      0.650426     7.0    7.0    10.0    WA  2018.0            0.642968   \nWI      0.548648     3.0    3.0     8.0    WI  2018.0            0.538286   \nWV      0.411287     0.0    0.0     3.0    WV  2018.0            0.410289   \nWY      0.318860     0.0    0.0     1.0    WY  2018.0            0.318860   \n\n       t_test_diff  mean_median_diff  efficiency_gap  partisan_bias  \nState                                                                \nAK             NaN         12.928870       97.740586      93.598326  \nAL       70.292887         80.753138       80.836820      87.071130  \nAR             NaN         54.895397       78.828452      83.305439  \nAZ       33.723849         36.401674       23.933054      74.937238  \nCA       45.774059         35.648536        6.443515      31.422594  \nCO       33.389121         33.054393       17.071130      45.062762  \nCT             NaN         43.514644       86.192469      55.439331  \nDE             NaN         12.928870       79.414226      93.598326  \nFL       55.815900         92.803347       63.347280      50.753138  \nGA       24.184100         73.974895       37.991632      47.196653  \nHI             NaN         12.928870       19.581590      13.723849  \nIA        8.535565         27.866109       78.995816      13.723849  \nID             NaN         12.928870       81.338912      13.723849  \nIL       47.029289         51.882845       13.138075      39.581590  \nIN       20.334728         41.004184       71.799163      74.937238  \nKS       22.008368         34.142259       60.000000      13.723849  \nKY       18.075314         71.882845       50.543933      74.937238  \nLA       69.707113         95.815900       72.301255      86.861925  \nMA             NaN         77.907950       59.497908      39.581590  \nMD       44.769874         55.648536       17.154812      83.305439  \nME             NaN         12.928870       93.054393      13.723849  \nMI       49.874477         79.414226       54.895397      66.150628  \nMN       33.221757         57.071130        8.702929      62.468619  \nMO       35.146444         94.309623       57.824268      62.468619  \nMS       70.376569         98.410042       85.439331      83.305439  \nMT             NaN         12.928870       98.744770      93.598326  \nNC       49.037657         58.828452       76.234310      83.305439  \nND             NaN         12.928870       84.267782      93.598326  \nNE             NaN         50.460251       84.602510      69.163180  \nNH             NaN         12.928870       95.899582      13.723849  \nNJ       39.079498         50.962343       67.698745      13.723849  \nNM             NaN         47.112971       88.870293      69.163180  \nNV        5.355649         28.117155       66.610879      13.723849  \nNY       69.037657         77.071130       68.870293      28.661088  \nOH       49.456067         73.556485       79.832636      83.305439  \nOK       60.334728         50.794979       19.832636      55.439331  \nOR       30.543933         51.046025       47.866109      55.439331  \nPA       44.351464         60.753138       49.121339      39.581590  \nRI             NaN         12.928870       76.317992      13.723849  \nSC        0.251046         58.744770       56.066946      79.748954  \nSD             NaN         12.928870       84.769874      93.598326  \nTN       25.857741         86.108787       45.104603      85.983264  \nTX       58.075314         68.702929       73.221757      65.606695  \nUT       61.589958         49.958159        4.351464      13.723849  \nVA       40.669456         83.765690       12.384937      64.979079  \nVT             NaN         12.928870       25.020921      93.598326  \nWA       62.510460         70.460251       49.456067      78.828452  \nWI       64.602510         95.313808       81.422594      62.468619  \nWV             NaN         52.719665       90.878661      69.163180  \nWY             NaN         12.928870       61.338912      93.598326  "
     },
     "execution_count": 12,
     "metadata": {},
     "output_type": "execute_result"
    }
   ],
   "source": [
    "sdf = percentile_df.loc[2018]\n",
    "sdf"
   ]
  },
  {
   "cell_type": "code",
   "execution_count": 11,
   "metadata": {},
   "outputs": [
    {
     "ename": "KeyError",
     "evalue": "\"None of [Index([''], dtype='object')] are in the [columns]\"",
     "output_type": "error",
     "traceback": [
      "\u001b[0;31m---------------------------------------------------------------------------\u001b[0m",
      "\u001b[0;31mKeyError\u001b[0m                                  Traceback (most recent call last)",
      "\u001b[0;32m<ipython-input-11-e92a89648fb8>\u001b[0m in \u001b[0;36m<module>\u001b[0;34m\u001b[0m\n\u001b[0;32m----> 1\u001b[0;31m \u001b[0mddf\u001b[0m \u001b[0;34m=\u001b[0m \u001b[0msdf\u001b[0m\u001b[0;34m[\u001b[0m\u001b[0;34m[\u001b[0m\u001b[0;34m''\u001b[0m\u001b[0;34m]\u001b[0m\u001b[0;34m]\u001b[0m\u001b[0;34m\u001b[0m\u001b[0;34m\u001b[0m\u001b[0m\n\u001b[0m",
      "\u001b[0;32m/usr/local/anaconda3/envs/grdVE/lib/python3.7/site-packages/pandas/core/frame.py\u001b[0m in \u001b[0;36m__getitem__\u001b[0;34m(self, key)\u001b[0m\n\u001b[1;32m   2999\u001b[0m             \u001b[0;32mif\u001b[0m \u001b[0mis_iterator\u001b[0m\u001b[0;34m(\u001b[0m\u001b[0mkey\u001b[0m\u001b[0;34m)\u001b[0m\u001b[0;34m:\u001b[0m\u001b[0;34m\u001b[0m\u001b[0;34m\u001b[0m\u001b[0m\n\u001b[1;32m   3000\u001b[0m                 \u001b[0mkey\u001b[0m \u001b[0;34m=\u001b[0m \u001b[0mlist\u001b[0m\u001b[0;34m(\u001b[0m\u001b[0mkey\u001b[0m\u001b[0;34m)\u001b[0m\u001b[0;34m\u001b[0m\u001b[0;34m\u001b[0m\u001b[0m\n\u001b[0;32m-> 3001\u001b[0;31m             \u001b[0mindexer\u001b[0m \u001b[0;34m=\u001b[0m \u001b[0mself\u001b[0m\u001b[0;34m.\u001b[0m\u001b[0mloc\u001b[0m\u001b[0;34m.\u001b[0m\u001b[0m_convert_to_indexer\u001b[0m\u001b[0;34m(\u001b[0m\u001b[0mkey\u001b[0m\u001b[0;34m,\u001b[0m \u001b[0maxis\u001b[0m\u001b[0;34m=\u001b[0m\u001b[0;36m1\u001b[0m\u001b[0;34m,\u001b[0m \u001b[0mraise_missing\u001b[0m\u001b[0;34m=\u001b[0m\u001b[0;32mTrue\u001b[0m\u001b[0;34m)\u001b[0m\u001b[0;34m\u001b[0m\u001b[0;34m\u001b[0m\u001b[0m\n\u001b[0m\u001b[1;32m   3002\u001b[0m \u001b[0;34m\u001b[0m\u001b[0m\n\u001b[1;32m   3003\u001b[0m         \u001b[0;31m# take() does not accept boolean indexers\u001b[0m\u001b[0;34m\u001b[0m\u001b[0;34m\u001b[0m\u001b[0;34m\u001b[0m\u001b[0m\n",
      "\u001b[0;32m/usr/local/anaconda3/envs/grdVE/lib/python3.7/site-packages/pandas/core/indexing.py\u001b[0m in \u001b[0;36m_convert_to_indexer\u001b[0;34m(self, obj, axis, is_setter, raise_missing)\u001b[0m\n\u001b[1;32m   1283\u001b[0m                 \u001b[0;31m# When setting, missing keys are not allowed, even with .loc:\u001b[0m\u001b[0;34m\u001b[0m\u001b[0;34m\u001b[0m\u001b[0;34m\u001b[0m\u001b[0m\n\u001b[1;32m   1284\u001b[0m                 \u001b[0mkwargs\u001b[0m \u001b[0;34m=\u001b[0m \u001b[0;34m{\u001b[0m\u001b[0;34m\"raise_missing\"\u001b[0m\u001b[0;34m:\u001b[0m \u001b[0;32mTrue\u001b[0m \u001b[0;32mif\u001b[0m \u001b[0mis_setter\u001b[0m \u001b[0;32melse\u001b[0m \u001b[0mraise_missing\u001b[0m\u001b[0;34m}\u001b[0m\u001b[0;34m\u001b[0m\u001b[0;34m\u001b[0m\u001b[0m\n\u001b[0;32m-> 1285\u001b[0;31m                 \u001b[0;32mreturn\u001b[0m \u001b[0mself\u001b[0m\u001b[0;34m.\u001b[0m\u001b[0m_get_listlike_indexer\u001b[0m\u001b[0;34m(\u001b[0m\u001b[0mobj\u001b[0m\u001b[0;34m,\u001b[0m \u001b[0maxis\u001b[0m\u001b[0;34m,\u001b[0m \u001b[0;34m**\u001b[0m\u001b[0mkwargs\u001b[0m\u001b[0;34m)\u001b[0m\u001b[0;34m[\u001b[0m\u001b[0;36m1\u001b[0m\u001b[0;34m]\u001b[0m\u001b[0;34m\u001b[0m\u001b[0;34m\u001b[0m\u001b[0m\n\u001b[0m\u001b[1;32m   1286\u001b[0m         \u001b[0;32melse\u001b[0m\u001b[0;34m:\u001b[0m\u001b[0;34m\u001b[0m\u001b[0;34m\u001b[0m\u001b[0m\n\u001b[1;32m   1287\u001b[0m             \u001b[0;32mtry\u001b[0m\u001b[0;34m:\u001b[0m\u001b[0;34m\u001b[0m\u001b[0;34m\u001b[0m\u001b[0m\n",
      "\u001b[0;32m/usr/local/anaconda3/envs/grdVE/lib/python3.7/site-packages/pandas/core/indexing.py\u001b[0m in \u001b[0;36m_get_listlike_indexer\u001b[0;34m(self, key, axis, raise_missing)\u001b[0m\n\u001b[1;32m   1090\u001b[0m \u001b[0;34m\u001b[0m\u001b[0m\n\u001b[1;32m   1091\u001b[0m         self._validate_read_indexer(\n\u001b[0;32m-> 1092\u001b[0;31m             \u001b[0mkeyarr\u001b[0m\u001b[0;34m,\u001b[0m \u001b[0mindexer\u001b[0m\u001b[0;34m,\u001b[0m \u001b[0mo\u001b[0m\u001b[0;34m.\u001b[0m\u001b[0m_get_axis_number\u001b[0m\u001b[0;34m(\u001b[0m\u001b[0maxis\u001b[0m\u001b[0;34m)\u001b[0m\u001b[0;34m,\u001b[0m \u001b[0mraise_missing\u001b[0m\u001b[0;34m=\u001b[0m\u001b[0mraise_missing\u001b[0m\u001b[0;34m\u001b[0m\u001b[0;34m\u001b[0m\u001b[0m\n\u001b[0m\u001b[1;32m   1093\u001b[0m         )\n\u001b[1;32m   1094\u001b[0m         \u001b[0;32mreturn\u001b[0m \u001b[0mkeyarr\u001b[0m\u001b[0;34m,\u001b[0m \u001b[0mindexer\u001b[0m\u001b[0;34m\u001b[0m\u001b[0;34m\u001b[0m\u001b[0m\n",
      "\u001b[0;32m/usr/local/anaconda3/envs/grdVE/lib/python3.7/site-packages/pandas/core/indexing.py\u001b[0m in \u001b[0;36m_validate_read_indexer\u001b[0;34m(self, key, indexer, axis, raise_missing)\u001b[0m\n\u001b[1;32m   1175\u001b[0m                 raise KeyError(\n\u001b[1;32m   1176\u001b[0m                     \"None of [{key}] are in the [{axis}]\".format(\n\u001b[0;32m-> 1177\u001b[0;31m                         \u001b[0mkey\u001b[0m\u001b[0;34m=\u001b[0m\u001b[0mkey\u001b[0m\u001b[0;34m,\u001b[0m \u001b[0maxis\u001b[0m\u001b[0;34m=\u001b[0m\u001b[0mself\u001b[0m\u001b[0;34m.\u001b[0m\u001b[0mobj\u001b[0m\u001b[0;34m.\u001b[0m\u001b[0m_get_axis_name\u001b[0m\u001b[0;34m(\u001b[0m\u001b[0maxis\u001b[0m\u001b[0;34m)\u001b[0m\u001b[0;34m\u001b[0m\u001b[0;34m\u001b[0m\u001b[0m\n\u001b[0m\u001b[1;32m   1178\u001b[0m                     )\n\u001b[1;32m   1179\u001b[0m                 )\n",
      "\u001b[0;31mKeyError\u001b[0m: \"None of [Index([''], dtype='object')] are in the [columns]\""
     ]
    }
   ],
   "source": []
  },
  {
   "cell_type": "code",
   "execution_count": null,
   "metadata": {},
   "outputs": [],
   "source": []
  }
 ],
 "metadata": {
  "kernelspec": {
   "display_name": "Python 3.7.6 64-bit ('grdVE': conda)",
   "language": "python",
   "name": "python37664bitgrdveconda67d5742d48f94f89a189f52d4591980a"
  },
  "language_info": {
   "codemirror_mode": {
    "name": "ipython",
    "version": 3
   },
   "file_extension": ".py",
   "mimetype": "text/x-python",
   "name": "python",
   "nbconvert_exporter": "python",
   "pygments_lexer": "ipython3",
   "version": "3.7.6-final"
  }
 },
 "nbformat": 4,
 "nbformat_minor": 2
}